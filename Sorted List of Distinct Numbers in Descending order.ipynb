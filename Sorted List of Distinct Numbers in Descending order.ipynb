{
 "cells": [
  {
   "cell_type": "code",
   "execution_count": 20,
   "id": "50c8f80e",
   "metadata": {},
   "outputs": [
    {
     "name": "stdout",
     "output_type": "stream",
     "text": [
      "Enter the numbers : 1 1 2 2 3\n",
      "Sorted list is [3.0, 2.0, 1.0]\n"
     ]
    }
   ],
   "source": [
    "#Program to print sorted list containing distinct numbers in decending order\n",
    "n=str(input(\"Enter the numbers : \")).split()\n",
    "l=len(n)\n",
    "for i in range(l):\n",
    "    n[i]=float(n[i])\n",
    "Ans=list(set(n))\n",
    "Ans.sort(reverse=1)\n",
    "print(\"Sorted list is\",Ans)"
   ]
  },
  {
   "cell_type": "code",
   "execution_count": null,
   "id": "a1c674bf",
   "metadata": {},
   "outputs": [],
   "source": []
  }
 ],
 "metadata": {
  "kernelspec": {
   "display_name": "Python 3 (ipykernel)",
   "language": "python",
   "name": "python3"
  },
  "language_info": {
   "codemirror_mode": {
    "name": "ipython",
    "version": 3
   },
   "file_extension": ".py",
   "mimetype": "text/x-python",
   "name": "python",
   "nbconvert_exporter": "python",
   "pygments_lexer": "ipython3",
   "version": "3.9.13"
  }
 },
 "nbformat": 4,
 "nbformat_minor": 5
}
