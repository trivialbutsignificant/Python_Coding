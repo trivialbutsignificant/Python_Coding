{
 "cells": [
  {
   "cell_type": "code",
   "execution_count": 6,
   "id": "e5bcc2c7",
   "metadata": {},
   "outputs": [
    {
     "name": "stdout",
     "output_type": "stream",
     "text": [
      "Enter the number of independent random variables: 4\n",
      "Answer P(X1<X2<.....<Xn) is : 0.041666666666666664\n"
     ]
    }
   ],
   "source": [
    "#Probability of independent random variables\n",
    "n=int(input(\"Enter the number of independent random variables: \"))\n",
    "Ans=1\n",
    "for i in range(n):\n",
    "    Ans=Ans*(i+1)\n",
    "if n!=1:\n",
    "    Ans=float(1/Ans);\n",
    "print(\"Answer P(X1<X2<.....<Xn) is :\",Ans)"
   ]
  },
  {
   "cell_type": "code",
   "execution_count": null,
   "id": "53fdc366",
   "metadata": {},
   "outputs": [],
   "source": []
  },
  {
   "cell_type": "code",
   "execution_count": null,
   "id": "3d35420a",
   "metadata": {},
   "outputs": [],
   "source": []
  }
 ],
 "metadata": {
  "kernelspec": {
   "display_name": "Python 3 (ipykernel)",
   "language": "python",
   "name": "python3"
  },
  "language_info": {
   "codemirror_mode": {
    "name": "ipython",
    "version": 3
   },
   "file_extension": ".py",
   "mimetype": "text/x-python",
   "name": "python",
   "nbconvert_exporter": "python",
   "pygments_lexer": "ipython3",
   "version": "3.9.13"
  }
 },
 "nbformat": 4,
 "nbformat_minor": 5
}
