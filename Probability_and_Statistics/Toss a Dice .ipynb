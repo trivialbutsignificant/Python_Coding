{
 "cells": [
  {
   "cell_type": "code",
   "execution_count": 9,
   "id": "0b2072e8",
   "metadata": {},
   "outputs": [
    {
     "name": "stdout",
     "output_type": "stream",
     "text": [
      "Enter the number of faces: -1\n"
     ]
    }
   ],
   "source": [
    "#Toss a Dice\n",
    "import random\n",
    "n=float(input(\"Enter the number of faces: \"))\n",
    "while(n>0):\n",
    "    print(\"The number is: \",random.randint(1,n))\n",
    "    n=float(input(\"Enter the number of faces: \"))"
   ]
  },
  {
   "cell_type": "code",
   "execution_count": null,
   "id": "8ebdc67c",
   "metadata": {},
   "outputs": [],
   "source": []
  },
  {
   "cell_type": "code",
   "execution_count": null,
   "id": "ce2cb492",
   "metadata": {},
   "outputs": [],
   "source": []
  }
 ],
 "metadata": {
  "kernelspec": {
   "display_name": "Python 3 (ipykernel)",
   "language": "python",
   "name": "python3"
  },
  "language_info": {
   "codemirror_mode": {
    "name": "ipython",
    "version": 3
   },
   "file_extension": ".py",
   "mimetype": "text/x-python",
   "name": "python",
   "nbconvert_exporter": "python",
   "pygments_lexer": "ipython3",
   "version": "3.9.13"
  }
 },
 "nbformat": 4,
 "nbformat_minor": 5
}
