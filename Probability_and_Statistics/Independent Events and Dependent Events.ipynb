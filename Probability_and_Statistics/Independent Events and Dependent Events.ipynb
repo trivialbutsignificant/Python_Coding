{
 "cells": [
  {
   "cell_type": "code",
   "execution_count": 44,
   "id": "90d5eb56",
   "metadata": {},
   "outputs": [
    {
     "name": "stdout",
     "output_type": "stream",
     "text": [
      "Enter the probability of event A: 1\n",
      "Enter the probability of event B: 1\n",
      "Enter the probability of event A and B: 1\n",
      "A and B are independent events.\n"
     ]
    }
   ],
   "source": [
    "#Program to find independent and dependent events\n",
    "A=float(input(\"Enter the probability of event A: \"))\n",
    "B=float(input(\"Enter the probability of event B: \"))\n",
    "C=float(input(\"Enter the probability of event A and B: \"))\n",
    "if B!=0:\n",
    "    AGB=float(C/B)\n",
    "if A!=0:\n",
    "    BGA=float(C/A)\n",
    "if AGB==A and BGA==B and A!=0 and B!=0:\n",
    "    print(\"A and B are independent events.\")\n",
    "elif C==0 and A!=0 and B!=0:\n",
    "    print(\"A and B are mutually exclusive and dependent events.\")\n",
    "elif A!=0 and B!=0 and C!=0:\n",
    "    print(\"A and B are dependent events.\")\n",
    "elif A==0 and B==0 and C==0:\n",
    "    print(\"A and B are mutually exclusive and independent events.\")\n",
    "elif C!=0 and (A==0 or B==0) :\n",
    "    print(\"A and B are dependent events.\")\n",
    "elif A==0 and B==0 and C!=0:\n",
    "    print(\"Not Possible.\")\n",
    "elif (C==0 and A==0 or B==0) or (A==1 and B==1 and C==1):\n",
    "    print(\"A and B are independent events.\")"
   ]
  },
  {
   "cell_type": "code",
   "execution_count": null,
   "id": "46bde669",
   "metadata": {},
   "outputs": [],
   "source": []
  },
  {
   "cell_type": "code",
   "execution_count": null,
   "id": "0479f2f2",
   "metadata": {},
   "outputs": [],
   "source": []
  }
 ],
 "metadata": {
  "kernelspec": {
   "display_name": "Python 3 (ipykernel)",
   "language": "python",
   "name": "python3"
  },
  "language_info": {
   "codemirror_mode": {
    "name": "ipython",
    "version": 3
   },
   "file_extension": ".py",
   "mimetype": "text/x-python",
   "name": "python",
   "nbconvert_exporter": "python",
   "pygments_lexer": "ipython3",
   "version": "3.9.13"
  }
 },
 "nbformat": 4,
 "nbformat_minor": 5
}
