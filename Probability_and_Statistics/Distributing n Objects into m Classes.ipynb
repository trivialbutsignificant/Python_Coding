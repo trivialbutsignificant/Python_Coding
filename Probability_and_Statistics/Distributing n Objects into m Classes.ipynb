{
 "cells": [
  {
   "cell_type": "code",
   "execution_count": 1,
   "id": "8944ba2a",
   "metadata": {},
   "outputs": [
    {
     "name": "stdout",
     "output_type": "stream",
     "text": [
      "Enter the number of objects: 3\n",
      "Enter the number of classes: 4\n",
      "Answer is  64\n"
     ]
    }
   ],
   "source": [
    "#Number of ways of distributing n objects into m classes\n",
    "import math\n",
    "n=int(input(\"Enter the number of objects: \"))\n",
    "m=int(input(\"Enter the number of classes: \"))\n",
    "Ans=m**n\n",
    "print(\"Answer is \",Ans)"
   ]
  },
  {
   "cell_type": "code",
   "execution_count": null,
   "id": "b4b04bd3",
   "metadata": {},
   "outputs": [],
   "source": []
  }
 ],
 "metadata": {
  "kernelspec": {
   "display_name": "Python 3 (ipykernel)",
   "language": "python",
   "name": "python3"
  },
  "language_info": {
   "codemirror_mode": {
    "name": "ipython",
    "version": 3
   },
   "file_extension": ".py",
   "mimetype": "text/x-python",
   "name": "python",
   "nbconvert_exporter": "python",
   "pygments_lexer": "ipython3",
   "version": "3.9.13"
  }
 },
 "nbformat": 4,
 "nbformat_minor": 5
}
