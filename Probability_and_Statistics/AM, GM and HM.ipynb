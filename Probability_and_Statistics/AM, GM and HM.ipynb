{
 "cells": [
  {
   "cell_type": "code",
   "execution_count": 25,
   "id": "3c2355b2",
   "metadata": {},
   "outputs": [
    {
     "name": "stdout",
     "output_type": "stream",
     "text": [
      "Enter all the terms: 1 2 3 4\n",
      "Airthmetic Mean is: 2.5 \n",
      "Geometric Mean is: 2.2133638394006434 \n",
      "Harmonic Mean is: 1.9200000000000004\n"
     ]
    }
   ],
   "source": [
    "#Geometric Mean, Harmonic Mean and Airthmetic Mean\n",
    "import math\n",
    "a=str(input(\"Enter all the terms: \")).split()\n",
    "n=len(a)\n",
    "AM=0\n",
    "GM=1\n",
    "HM=0\n",
    "for i in range(n):\n",
    "    AM=AM+int(a[i])\n",
    "AM=float(AM/n)\n",
    "for j in range(n):\n",
    "    GM=GM*int(a[j])\n",
    "GM=float(abs(GM)**(1/n))\n",
    "for k in range(n):\n",
    "    HM=float(HM+1/int(a[k]))\n",
    "HM=float((n)*HM**(-1))\n",
    "print(\"Airthmetic Mean is:\",AM,\"\\nGeometric Mean is:\",GM,\"\\nHarmonic Mean is:\",HM)"
   ]
  },
  {
   "cell_type": "code",
   "execution_count": null,
   "id": "65d17b78",
   "metadata": {},
   "outputs": [],
   "source": []
  },
  {
   "cell_type": "code",
   "execution_count": null,
   "id": "da7cbc1a",
   "metadata": {},
   "outputs": [],
   "source": []
  }
 ],
 "metadata": {
  "kernelspec": {
   "display_name": "Python 3 (ipykernel)",
   "language": "python",
   "name": "python3"
  },
  "language_info": {
   "codemirror_mode": {
    "name": "ipython",
    "version": 3
   },
   "file_extension": ".py",
   "mimetype": "text/x-python",
   "name": "python",
   "nbconvert_exporter": "python",
   "pygments_lexer": "ipython3",
   "version": "3.9.13"
  }
 },
 "nbformat": 4,
 "nbformat_minor": 5
}
