{
 "cells": [
  {
   "cell_type": "code",
   "execution_count": 6,
   "id": "21114d9f",
   "metadata": {},
   "outputs": [
    {
     "name": "stdout",
     "output_type": "stream",
     "text": [
      "Enter the number of datasets: 2\n",
      "Enter the elemets of 1 dataset: 500\n",
      "Enter the 1 Mean: 186\n",
      "Enter the 1 Standard Deviation: 9\n",
      "Enter the elemets of 2 dataset: 600\n",
      "Enter the 2 Mean: 175\n",
      "Enter the 2 Standard Deviation: 10\n",
      "The combined Mean is  180.0 and combined Standard Deviation is  11.016516525818693\n"
     ]
    }
   ],
   "source": [
    "#Program to find combined Mean and combined Standard Deviation\n",
    "import math\n",
    "dt=int(input(\"Enter the number of datasets: \"))\n",
    "nt=0\n",
    "xt=0\n",
    "sigt=0\n",
    "d=[]\n",
    "n=[]\n",
    "x=[]\n",
    "sd=[]\n",
    "for i in range(dt):\n",
    "    n.append(int(input(f'Enter the elemets of {i+1} dataset: ')))\n",
    "    x.append(int(input(f'Enter the {i+1} Mean: ')))\n",
    "    sd.append(int(input(f'Enter the {i+1} Standard Deviation: ')))\n",
    "    nt=nt+n[i]\n",
    "    xt=xt+n[i]*x[i]\n",
    "xt=float(xt/nt)\n",
    "for j in range(dt):\n",
    "    d.append(x[j]-xt)\n",
    "    sigt=sigt+n[j]*(sd[j]**2+d[j]**2)\n",
    "sigt=float(sigt/nt)\n",
    "sdt=float(sigt**0.5)\n",
    "print(\"The combined Mean is \",xt,\"and combined Standard Deviation is \",sdt)"
   ]
  },
  {
   "cell_type": "markdown",
   "id": "ab87b8e4",
   "metadata": {},
   "source": [
    "# "
   ]
  }
 ],
 "metadata": {
  "kernelspec": {
   "display_name": "Python 3 (ipykernel)",
   "language": "python",
   "name": "python3"
  },
  "language_info": {
   "codemirror_mode": {
    "name": "ipython",
    "version": 3
   },
   "file_extension": ".py",
   "mimetype": "text/x-python",
   "name": "python",
   "nbconvert_exporter": "python",
   "pygments_lexer": "ipython3",
   "version": "3.9.13"
  }
 },
 "nbformat": 4,
 "nbformat_minor": 5
}
