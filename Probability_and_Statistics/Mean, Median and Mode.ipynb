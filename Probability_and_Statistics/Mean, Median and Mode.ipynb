{
 "cells": [
  {
   "cell_type": "code",
   "execution_count": 5,
   "id": "d49f1272",
   "metadata": {},
   "outputs": [
    {
     "name": "stdout",
     "output_type": "stream",
     "text": [
      "1. Find Mean given Median and Mode.\n",
      "2. Find Median given Mode and Mean.\n",
      "3. Find Mode given Mean and Median.\n",
      "4. Exit.\n",
      "Choose your option: 1\n",
      "Enter the value of Median: 1\n",
      "Enter the value of Mode: 1\n",
      "Mean is  -1.0\n",
      "1. Find Mean given Median and Mode.\n",
      "2. Find Median given Mode and Mean.\n",
      "3. Find Mode given Mean and Median.\n",
      "4. Exit.\n",
      "Choose your option: 2\n",
      "Enter the value of Mode: 1\n",
      "Enter the value of Mean: 1\n",
      "Median is  1.0\n",
      "1. Find Mean given Median and Mode.\n",
      "2. Find Median given Mode and Mean.\n",
      "3. Find Mode given Mean and Median.\n",
      "4. Exit.\n",
      "Choose your option: 3\n",
      "Enter the value of Mean: 1\n",
      "Enter the value of Median: 1\n",
      "Mode is  1.0\n",
      "1. Find Mean given Median and Mode.\n",
      "2. Find Median given Mode and Mean.\n",
      "3. Find Mode given Mean and Median.\n",
      "4. Exit.\n",
      "Choose your option: 4\n"
     ]
    }
   ],
   "source": [
    "#To find Mean, Median or Mode\n",
    "import math\n",
    "print(\"1. Find Mean given Median and Mode.\\n2. Find Median given Mode and Mean.\\n3. Find Mode given Mean and Median.\\n4. Exit.\")\n",
    "n=int(input(\"Choose your option: \"))\n",
    "while(n!=4):\n",
    "    Mean=0\n",
    "    Median=0\n",
    "    Mode=0\n",
    "    if n==1:\n",
    "        Median=int(input(\"Enter the value of Median: \"))\n",
    "        Mode=int(input(\"Enter the value of Mode: \"))\n",
    "        Mean=float((Mode-3*Median)/2)\n",
    "        print(\"Mean is \",Mean)\n",
    "    elif n==2:\n",
    "        Mode=int(input(\"Enter the value of Mode: \"))\n",
    "        Mean=int(input(\"Enter the value of Mean: \"))\n",
    "        Median=float((Mode+2*Mean)/3)\n",
    "        print(\"Median is \",Median)\n",
    "    elif n==3:\n",
    "        Mean=int(input(\"Enter the value of Mean: \"))\n",
    "        Median=int(input(\"Enter the value of Median: \"))\n",
    "        Mode=float(-2*Mean+3*Median)\n",
    "        print(\"Mode is \", Mode)\n",
    "    print(\"1. Find Mean given Median and Mode.\\n2. Find Median given Mode and Mean.\\n3. Find Mode given Mean and Median.\\n4. Exit.\")\n",
    "    n=int(input(\"Choose your option: \"))"
   ]
  },
  {
   "cell_type": "code",
   "execution_count": null,
   "id": "baa7c462",
   "metadata": {},
   "outputs": [],
   "source": []
  }
 ],
 "metadata": {
  "kernelspec": {
   "display_name": "Python 3 (ipykernel)",
   "language": "python",
   "name": "python3"
  },
  "language_info": {
   "codemirror_mode": {
    "name": "ipython",
    "version": 3
   },
   "file_extension": ".py",
   "mimetype": "text/x-python",
   "name": "python",
   "nbconvert_exporter": "python",
   "pygments_lexer": "ipython3",
   "version": "3.9.13"
  }
 },
 "nbformat": 4,
 "nbformat_minor": 5
}
