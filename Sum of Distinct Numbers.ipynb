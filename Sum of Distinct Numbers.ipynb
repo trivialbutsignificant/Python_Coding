{
 "cells": [
  {
   "cell_type": "code",
   "execution_count": 53,
   "id": "0f37f669",
   "metadata": {},
   "outputs": [
    {
     "name": "stdout",
     "output_type": "stream",
     "text": [
      "Enter all the numbers: 1 12 12 24\n",
      "Sum is 37\n"
     ]
    }
   ],
   "source": [
    "#Sum of Distinct Numbers\n",
    "n=str(input(\"Enter all the numbers: \")).split()\n",
    "n=list(set(n))\n",
    "l=len(n)\n",
    "Sum=0\n",
    "for i in range(l):\n",
    "    n[i]=int(n[i])\n",
    "    Sum=Sum+n[i]\n",
    "print(\"Sum is\",Sum)"
   ]
  },
  {
   "cell_type": "markdown",
   "id": "bdd1c056",
   "metadata": {},
   "source": [
    "# "
   ]
  },
  {
   "cell_type": "code",
   "execution_count": null,
   "id": "0d286076",
   "metadata": {},
   "outputs": [],
   "source": []
  }
 ],
 "metadata": {
  "kernelspec": {
   "display_name": "Python 3 (ipykernel)",
   "language": "python",
   "name": "python3"
  },
  "language_info": {
   "codemirror_mode": {
    "name": "ipython",
    "version": 3
   },
   "file_extension": ".py",
   "mimetype": "text/x-python",
   "name": "python",
   "nbconvert_exporter": "python",
   "pygments_lexer": "ipython3",
   "version": "3.9.13"
  }
 },
 "nbformat": 4,
 "nbformat_minor": 5
}
