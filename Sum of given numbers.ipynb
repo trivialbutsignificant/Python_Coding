{
 "cells": [
  {
   "cell_type": "code",
   "execution_count": 10,
   "id": "ccbe62b0",
   "metadata": {},
   "outputs": [
    {
     "name": "stdout",
     "output_type": "stream",
     "text": [
      "Enter the numbers : -1 -3 4\n",
      "Sum is 0.0\n"
     ]
    }
   ],
   "source": [
    "#Program to print the sum of given numbers\n",
    "n=str(input(\"Enter the numbers : \")).split()\n",
    "l=len(n)\n",
    "for i in range(l):\n",
    "    n[i]=float(n[i])\n",
    "Ans=sum(n)\n",
    "print(\"Sum is\",Ans)"
   ]
  },
  {
   "cell_type": "code",
   "execution_count": null,
   "id": "415242e7",
   "metadata": {},
   "outputs": [],
   "source": []
  }
 ],
 "metadata": {
  "kernelspec": {
   "display_name": "Python 3 (ipykernel)",
   "language": "python",
   "name": "python3"
  },
  "language_info": {
   "codemirror_mode": {
    "name": "ipython",
    "version": 3
   },
   "file_extension": ".py",
   "mimetype": "text/x-python",
   "name": "python",
   "nbconvert_exporter": "python",
   "pygments_lexer": "ipython3",
   "version": "3.9.13"
  }
 },
 "nbformat": 4,
 "nbformat_minor": 5
}
