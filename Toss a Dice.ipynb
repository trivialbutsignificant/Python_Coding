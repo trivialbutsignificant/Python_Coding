{
 "cells": [
  {
   "cell_type": "code",
   "execution_count": 5,
   "id": "13e4afe8",
   "metadata": {},
   "outputs": [
    {
     "name": "stdout",
     "output_type": "stream",
     "text": [
      "Enter the number of faces: 3\n",
      "The number is:  3\n",
      "Enter the number of faces: 3\n",
      "The number is:  3\n",
      "Enter the number of faces: 3\n",
      "The number is:  1\n",
      "Enter the number of faces: 3\n",
      "The number is:  2\n",
      "Enter the number of faces: 3\n",
      "The number is:  2\n",
      "Enter the number of faces: 3\n",
      "The number is:  2\n",
      "Enter the number of faces: 0\n"
     ]
    }
   ],
   "source": [
    "#Toss a Dice\n",
    "import random\n",
    "n=int(input(\"Enter the number of faces: \"))\n",
    "while(n!=0):\n",
    "    print(\"The number is: \",random.randint(1,n))\n",
    "    n=int(input(\"Enter the number of faces: \"))"
   ]
  },
  {
   "cell_type": "code",
   "execution_count": null,
   "id": "a2e83260",
   "metadata": {},
   "outputs": [],
   "source": []
  },
  {
   "cell_type": "code",
   "execution_count": null,
   "id": "8ce93b56",
   "metadata": {},
   "outputs": [],
   "source": []
  }
 ],
 "metadata": {
  "kernelspec": {
   "display_name": "Python 3 (ipykernel)",
   "language": "python",
   "name": "python3"
  },
  "language_info": {
   "codemirror_mode": {
    "name": "ipython",
    "version": 3
   },
   "file_extension": ".py",
   "mimetype": "text/x-python",
   "name": "python",
   "nbconvert_exporter": "python",
   "pygments_lexer": "ipython3",
   "version": "3.9.13"
  }
 },
 "nbformat": 4,
 "nbformat_minor": 5
}
