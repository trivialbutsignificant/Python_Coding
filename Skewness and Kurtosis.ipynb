{
 "cells": [
  {
   "cell_type": "code",
   "execution_count": 49,
   "id": "05588c3d",
   "metadata": {},
   "outputs": [
    {
     "name": "stdout",
     "output_type": "stream",
     "text": [
      "Enter the value of Standard deviation: 1\n",
      "Enter the value of third Moment: 0\n",
      "Enter the value of fourth Moment: 3\n",
      "The coefficient of Skewness is  0.0\n",
      "The coefficent of Kurtosis is  0.0\n"
     ]
    }
   ],
   "source": [
    "#Finding the coeffient of Skewness and Kurtosis\n",
    "import math\n",
    "sig=int(input(\"Enter the value of Standard deviation: \"))\n",
    "u3=int(input(\"Enter the value of third Moment: \"))\n",
    "u4=int(input(\"Enter the value of fourth Moment: \"))\n",
    "skew=float(u3/sig**3)\n",
    "kurt=float(u4/sig**4)-3\n",
    "print(\"The coefficient of Skewness is \", skew) \n",
    "print(\"The coefficent of Kurtosis is \", kurt)"
   ]
  },
  {
   "cell_type": "code",
   "execution_count": null,
   "id": "dfd61ddb",
   "metadata": {},
   "outputs": [],
   "source": []
  }
 ],
 "metadata": {
  "kernelspec": {
   "display_name": "Python 3 (ipykernel)",
   "language": "python",
   "name": "python3"
  },
  "language_info": {
   "codemirror_mode": {
    "name": "ipython",
    "version": 3
   },
   "file_extension": ".py",
   "mimetype": "text/x-python",
   "name": "python",
   "nbconvert_exporter": "python",
   "pygments_lexer": "ipython3",
   "version": "3.9.13"
  }
 },
 "nbformat": 4,
 "nbformat_minor": 5
}
