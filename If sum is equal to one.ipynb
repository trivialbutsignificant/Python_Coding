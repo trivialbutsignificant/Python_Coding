{
 "cells": [
  {
   "cell_type": "code",
   "execution_count": 8,
   "id": "f0d2bfb0",
   "metadata": {},
   "outputs": [
    {
     "name": "stdout",
     "output_type": "stream",
     "text": [
      "Enter the numbers : 0.5 0.1 0.4\n",
      "Yes, the sum is equal to one.\n"
     ]
    }
   ],
   "source": [
    "#Program to find if the sum of given numbers is equal to one\n",
    "n=str(input(\"Enter the numbers : \")).split()\n",
    "l=len(n)\n",
    "for i in range(l):\n",
    "    n[i]=float(n[i])\n",
    "Ans=sum(n)\n",
    "if Ans==1:\n",
    "    print(\"Yes, the sum is equal to one.\")\n",
    "else:\n",
    "    print(\"No, the sum is not equal to one.\")"
   ]
  },
  {
   "cell_type": "code",
   "execution_count": null,
   "id": "591fc3a1",
   "metadata": {},
   "outputs": [],
   "source": []
  }
 ],
 "metadata": {
  "kernelspec": {
   "display_name": "Python 3 (ipykernel)",
   "language": "python",
   "name": "python3"
  },
  "language_info": {
   "codemirror_mode": {
    "name": "ipython",
    "version": 3
   },
   "file_extension": ".py",
   "mimetype": "text/x-python",
   "name": "python",
   "nbconvert_exporter": "python",
   "pygments_lexer": "ipython3",
   "version": "3.9.13"
  }
 },
 "nbformat": 4,
 "nbformat_minor": 5
}
