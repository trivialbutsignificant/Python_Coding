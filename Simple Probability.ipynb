{
 "cells": [
  {
   "cell_type": "code",
   "execution_count": 4,
   "id": "3fdfd199",
   "metadata": {},
   "outputs": [
    {
     "name": "stdout",
     "output_type": "stream",
     "text": [
      "Enter the number of favourable outcomes: 2\n",
      "Enter the total number of outcomes: 3\n",
      "The probability is: 0.6667\n"
     ]
    }
   ],
   "source": [
    "#Probability\n",
    "n=int(input(\"Enter the number of favourable outcomes: \"))\n",
    "m=int(input(\"Enter the total number of outcomes: \"))\n",
    "Ans=float(n/m)\n",
    "print(\"The probability is:\",round(Ans,4))"
   ]
  }
 ],
 "metadata": {
  "kernelspec": {
   "display_name": "Python 3 (ipykernel)",
   "language": "python",
   "name": "python3"
  },
  "language_info": {
   "codemirror_mode": {
    "name": "ipython",
    "version": 3
   },
   "file_extension": ".py",
   "mimetype": "text/x-python",
   "name": "python",
   "nbconvert_exporter": "python",
   "pygments_lexer": "ipython3",
   "version": "3.9.13"
  }
 },
 "nbformat": 4,
 "nbformat_minor": 5
}
