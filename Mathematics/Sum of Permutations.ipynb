{
 "cells": [
  {
   "cell_type": "code",
   "execution_count": 4,
   "id": "5f40436a",
   "metadata": {},
   "outputs": [
    {
     "name": "stdout",
     "output_type": "stream",
     "text": [
      "Enter the number of objects: 4\n",
      "The sum is : 65.0\n"
     ]
    }
   ],
   "source": [
    "#Sum of all Permutation\n",
    "import math\n",
    "n=int(input(\"Enter the number of objects: \"))\n",
    "P=[]\n",
    "for i in range(n+1):\n",
    "    P.append(math.factorial(n)/math.factorial(n-i))\n",
    "Ans=sum(P)\n",
    "print(\"The sum is :\",Ans)"
   ]
  },
  {
   "cell_type": "code",
   "execution_count": null,
   "id": "27838a9d",
   "metadata": {},
   "outputs": [],
   "source": []
  }
 ],
 "metadata": {
  "kernelspec": {
   "display_name": "Python 3 (ipykernel)",
   "language": "python",
   "name": "python3"
  },
  "language_info": {
   "codemirror_mode": {
    "name": "ipython",
    "version": 3
   },
   "file_extension": ".py",
   "mimetype": "text/x-python",
   "name": "python",
   "nbconvert_exporter": "python",
   "pygments_lexer": "ipython3",
   "version": "3.9.13"
  }
 },
 "nbformat": 4,
 "nbformat_minor": 5
}
