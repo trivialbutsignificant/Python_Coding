{
 "cells": [
  {
   "cell_type": "code",
   "execution_count": 12,
   "id": "121a8978",
   "metadata": {},
   "outputs": [
    {
     "name": "stdout",
     "output_type": "stream",
     "text": [
      "Enter the number of sides: 3\n",
      "Sum of all interior angles is 180°\n"
     ]
    }
   ],
   "source": [
    "#Sum of all interior angles of a regular polygon\n",
    "n=int(input(\"Enter the number of sides: \"))\n",
    "Sum=180*(n-2)\n",
    "print(\"Sum of all interior angles is \",Sum,chr(176),sep='')"
   ]
  },
  {
   "cell_type": "code",
   "execution_count": null,
   "id": "47d24eac",
   "metadata": {},
   "outputs": [],
   "source": []
  }
 ],
 "metadata": {
  "kernelspec": {
   "display_name": "Python 3 (ipykernel)",
   "language": "python",
   "name": "python3"
  },
  "language_info": {
   "codemirror_mode": {
    "name": "ipython",
    "version": 3
   },
   "file_extension": ".py",
   "mimetype": "text/x-python",
   "name": "python",
   "nbconvert_exporter": "python",
   "pygments_lexer": "ipython3",
   "version": "3.9.13"
  }
 },
 "nbformat": 4,
 "nbformat_minor": 5
}
