{
 "cells": [
  {
   "cell_type": "code",
   "execution_count": 61,
   "id": "b0bf8516",
   "metadata": {},
   "outputs": [
    {
     "name": "stdout",
     "output_type": "stream",
     "text": [
      "Enter the number: 0044\n"
     ]
    }
   ],
   "source": [
    "#Finding significant digits\n",
    "n=input(\"Enter the number: \")\n",
    "l=len(n)\n",
    "j=0\n",
    "k=0\n",
    "for i in range(l):\n",
    "    if n[i]=='0' or n[i]=='.':\n",
    "        k+=1\n",
    "    if n[i]=='.':\n",
    "        j=1\n",
    "if k==l:\n",
    "    print(\"There are\",0,\"significant digits.\")\n",
    "elif n[0]=='0' and n[1]=='.':\n",
    "    for i in range(2,l):\n",
    "        if n[i]!='0':\n",
    "            break\n",
    "    print(\"There are\",l-i,\"significant digits.\")\n",
    "elif n[0]!='0' and j!=0 :\n",
    "    for i in range(l):\n",
    "        if n[i]=='.':\n",
    "            break\n",
    "    print(\"There are\",l-1,\"significant digits.\")\n",
    "elif n[0]!='0' and j==0:\n",
    "    for i in range(l):\n",
    "        if n[l-i-1]!='0':\n",
    "            break\n",
    "    print(\"There are\",l-i,\"significant digits.\")  "
   ]
  },
  {
   "cell_type": "code",
   "execution_count": null,
   "id": "1d5906ea",
   "metadata": {},
   "outputs": [],
   "source": []
  },
  {
   "cell_type": "code",
   "execution_count": null,
   "id": "08edea8c",
   "metadata": {},
   "outputs": [],
   "source": []
  }
 ],
 "metadata": {
  "kernelspec": {
   "display_name": "Python 3 (ipykernel)",
   "language": "python",
   "name": "python3"
  },
  "language_info": {
   "codemirror_mode": {
    "name": "ipython",
    "version": 3
   },
   "file_extension": ".py",
   "mimetype": "text/x-python",
   "name": "python",
   "nbconvert_exporter": "python",
   "pygments_lexer": "ipython3",
   "version": "3.9.13"
  }
 },
 "nbformat": 4,
 "nbformat_minor": 5
}
