{
 "cells": [
  {
   "cell_type": "code",
   "execution_count": 34,
   "id": "0f37f669",
   "metadata": {},
   "outputs": [
    {
     "name": "stdout",
     "output_type": "stream",
     "text": [
      "Enter all the numbers: 1 1 4 12 24 24\n",
      "Answer is  16\n"
     ]
    }
   ],
   "source": [
    "#Number of ways of summation of distinct numbers\n",
    "import math\n",
    "import numpy\n",
    "n=str(input(\"Enter all the numbers: \")).split()\n",
    "l=len(n)\n",
    "nm=[]\n",
    "for i in range(l):\n",
    "    nm.append(int(n[i]))\n",
    "nm=list(set(nm))\n",
    "Ans=2**len(nm)\n",
    "print(\"Answer is \",Ans)"
   ]
  },
  {
   "cell_type": "markdown",
   "id": "bdd1c056",
   "metadata": {},
   "source": [
    "# "
   ]
  },
  {
   "cell_type": "code",
   "execution_count": null,
   "id": "0d286076",
   "metadata": {},
   "outputs": [],
   "source": []
  }
 ],
 "metadata": {
  "kernelspec": {
   "display_name": "Python 3 (ipykernel)",
   "language": "python",
   "name": "python3"
  },
  "language_info": {
   "codemirror_mode": {
    "name": "ipython",
    "version": 3
   },
   "file_extension": ".py",
   "mimetype": "text/x-python",
   "name": "python",
   "nbconvert_exporter": "python",
   "pygments_lexer": "ipython3",
   "version": "3.9.13"
  }
 },
 "nbformat": 4,
 "nbformat_minor": 5
}
