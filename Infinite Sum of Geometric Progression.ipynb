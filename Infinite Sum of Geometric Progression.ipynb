{
 "cells": [
  {
   "cell_type": "code",
   "execution_count": 9,
   "id": "3ccb47cd",
   "metadata": {},
   "outputs": [
    {
     "name": "stdout",
     "output_type": "stream",
     "text": [
      "Enter the first term: 1\n",
      "Enter the common ratio: 0.5\n",
      "Answer is 2.0\n"
     ]
    }
   ],
   "source": [
    "#Sum of infinite geometric series\n",
    "import math\n",
    "a=float(input(\"Enter the first term: \"))\n",
    "r=float(input(\"Enter the common ratio: \"))\n",
    "if r<1 and r>-1:\n",
    "    Ans=float(a/(1-r))\n",
    "else:\n",
    "    Ans='Infinity'\n",
    "print(\"Answer is\",Ans)"
   ]
  },
  {
   "cell_type": "code",
   "execution_count": null,
   "id": "f29eab03",
   "metadata": {},
   "outputs": [],
   "source": []
  },
  {
   "cell_type": "code",
   "execution_count": null,
   "id": "bbbb540b",
   "metadata": {},
   "outputs": [],
   "source": []
  }
 ],
 "metadata": {
  "kernelspec": {
   "display_name": "Python 3 (ipykernel)",
   "language": "python",
   "name": "python3"
  },
  "language_info": {
   "codemirror_mode": {
    "name": "ipython",
    "version": 3
   },
   "file_extension": ".py",
   "mimetype": "text/x-python",
   "name": "python",
   "nbconvert_exporter": "python",
   "pygments_lexer": "ipython3",
   "version": "3.9.13"
  }
 },
 "nbformat": 4,
 "nbformat_minor": 5
}
