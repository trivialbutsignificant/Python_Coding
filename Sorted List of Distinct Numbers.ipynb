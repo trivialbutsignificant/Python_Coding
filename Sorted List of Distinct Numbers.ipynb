{
 "cells": [
  {
   "cell_type": "code",
   "execution_count": 19,
   "id": "2471f3eb",
   "metadata": {},
   "outputs": [
    {
     "name": "stdout",
     "output_type": "stream",
     "text": [
      "Enter the numbers : 2 2 3 3 3 1\n",
      "Sorted list is [1.0, 2.0, 3.0]\n"
     ]
    }
   ],
   "source": [
    "#Program to print sorted list containing distinct numbers\n",
    "n=str(input(\"Enter the numbers : \")).split()\n",
    "l=len(n)\n",
    "for i in range(l):\n",
    "    n[i]=float(n[i])\n",
    "Ans=list(set(n))\n",
    "Ans.sort()\n",
    "print(\"Sorted list is\",Ans)"
   ]
  },
  {
   "cell_type": "code",
   "execution_count": null,
   "id": "10e5b096",
   "metadata": {},
   "outputs": [],
   "source": []
  }
 ],
 "metadata": {
  "kernelspec": {
   "display_name": "Python 3 (ipykernel)",
   "language": "python",
   "name": "python3"
  },
  "language_info": {
   "codemirror_mode": {
    "name": "ipython",
    "version": 3
   },
   "file_extension": ".py",
   "mimetype": "text/x-python",
   "name": "python",
   "nbconvert_exporter": "python",
   "pygments_lexer": "ipython3",
   "version": "3.9.13"
  }
 },
 "nbformat": 4,
 "nbformat_minor": 5
}
