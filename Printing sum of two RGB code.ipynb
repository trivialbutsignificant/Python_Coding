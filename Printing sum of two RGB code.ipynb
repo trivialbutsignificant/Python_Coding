{
 "cells": [
  {
   "cell_type": "code",
   "execution_count": 22,
   "id": "f908f594",
   "metadata": {},
   "outputs": [
    {
     "name": "stdout",
     "output_type": "stream",
     "text": [
      "Enter the code of first RGB : 1 1 1\n",
      "Enter the code of second RGB : 1 1 1\n",
      "RGB code is : (2, 2, 2)\n"
     ]
    }
   ],
   "source": [
    "#Program to print mixed RGB of given RGBS\n",
    "f=str(input(\"Enter the code of first RGB : \")).split()\n",
    "s=str(input(\"Enter the code of second RGB : \")).split()\n",
    "n=[]\n",
    "for i in range(3):\n",
    "    n.append(float(f[i])+float(s[i]))\n",
    "Ans=(int(n[0]),int(n[1]),int(n[2]))\n",
    "print(\"RGB code is :\",Ans)"
   ]
  },
  {
   "cell_type": "markdown",
   "id": "19722886",
   "metadata": {},
   "source": [
    "# "
   ]
  },
  {
   "cell_type": "code",
   "execution_count": null,
   "id": "0a37be31",
   "metadata": {},
   "outputs": [],
   "source": []
  }
 ],
 "metadata": {
  "kernelspec": {
   "display_name": "Python 3 (ipykernel)",
   "language": "python",
   "name": "python3"
  },
  "language_info": {
   "codemirror_mode": {
    "name": "ipython",
    "version": 3
   },
   "file_extension": ".py",
   "mimetype": "text/x-python",
   "name": "python",
   "nbconvert_exporter": "python",
   "pygments_lexer": "ipython3",
   "version": "3.9.13"
  }
 },
 "nbformat": 4,
 "nbformat_minor": 5
}
