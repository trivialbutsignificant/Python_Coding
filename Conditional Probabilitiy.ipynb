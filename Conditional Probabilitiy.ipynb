{
 "cells": [
  {
   "cell_type": "code",
   "execution_count": 16,
   "id": "050aee88",
   "metadata": {},
   "outputs": [
    {
     "name": "stdout",
     "output_type": "stream",
     "text": [
      "Enter the probability of event A and B: 4\n",
      "Enter the probability of event B: 4\n",
      "P(A|B) is : ERROR\n"
     ]
    }
   ],
   "source": [
    "#Conditional Probability\n",
    "A=float(input(\"Enter the probability of event A and B: \"))\n",
    "B=float(input(\"Enter the probability of event B: \"))\n",
    "if B!=0 and 0<=A<=1 and 0<B<=1:\n",
    "    Ans=float(A/B);\n",
    "else:\n",
    "    Ans=\"ERROR\"\n",
    "print(\"P(A|B) is :\",Ans)"
   ]
  },
  {
   "cell_type": "markdown",
   "id": "2049401a",
   "metadata": {},
   "source": [
    "#### "
   ]
  },
  {
   "cell_type": "code",
   "execution_count": null,
   "id": "e88b2286",
   "metadata": {},
   "outputs": [],
   "source": []
  }
 ],
 "metadata": {
  "kernelspec": {
   "display_name": "Python 3 (ipykernel)",
   "language": "python",
   "name": "python3"
  },
  "language_info": {
   "codemirror_mode": {
    "name": "ipython",
    "version": 3
   },
   "file_extension": ".py",
   "mimetype": "text/x-python",
   "name": "python",
   "nbconvert_exporter": "python",
   "pygments_lexer": "ipython3",
   "version": "3.9.13"
  }
 },
 "nbformat": 4,
 "nbformat_minor": 5
}
