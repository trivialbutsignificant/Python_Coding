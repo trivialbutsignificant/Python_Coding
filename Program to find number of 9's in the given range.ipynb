{
 "cells": [
  {
   "cell_type": "code",
   "execution_count": 1,
   "id": "a13ddd27-f292-41eb-947a-5c36c60c8de5",
   "metadata": {},
   "outputs": [
    {
     "name": "stdin",
     "output_type": "stream",
     "text": [
      "Enter your value:  12\n"
     ]
    },
    {
     "name": "stdout",
     "output_type": "stream",
     "text": [
      "1\n"
     ]
    }
   ],
   "source": [
    "#Program to find number of 9's in the given range\n",
    "val= input(\"Enter your value: \")\n",
    "k=0\n",
    "l=len(val)\n",
    "val=int(val)\n",
    "for i in range(val):\n",
    "    for j in range(l):\n",
    "        if ((i+1)%10**(j+1))//(10**j)==9 and len(str(i+1))>=j+1:\n",
    "            k=k+1\n",
    "print(k)"
   ]
  },
  {
   "cell_type": "code",
   "execution_count": null,
   "id": "484c9d0e-90a0-452f-bb5b-2e32c1460e52",
   "metadata": {},
   "outputs": [],
   "source": []
  }
 ],
 "metadata": {
  "kernelspec": {
   "display_name": "Python 3 (ipykernel)",
   "language": "python",
   "name": "python3"
  },
  "language_info": {
   "codemirror_mode": {
    "name": "ipython",
    "version": 3
   },
   "file_extension": ".py",
   "mimetype": "text/x-python",
   "name": "python",
   "nbconvert_exporter": "python",
   "pygments_lexer": "ipython3",
   "version": "3.9.13"
  }
 },
 "nbformat": 4,
 "nbformat_minor": 5
}
