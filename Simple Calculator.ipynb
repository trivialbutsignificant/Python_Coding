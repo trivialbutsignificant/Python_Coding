{
 "cells": [
  {
   "cell_type": "code",
   "execution_count": null,
   "id": "d4c4b74c-cd50-4310-9a8a-39fb3fa74be3",
   "metadata": {},
   "outputs": [
    {
     "name": "stdout",
     "output_type": "stream",
     "text": [
      "Enter the two numbers\n"
     ]
    }
   ],
   "source": [
    "#Calculator\n",
    "print(\"Enter the two numbers\")\n",
    "a=int(input(\"Enter the first number :\"))\n",
    "b=int(input(\"Enter the secind number :\"))\n",
    "print(\"Choose one of the option\\n1. Summation\\n2. Subtraction\\n3. Product\\n4. Divide\")\n",
    "op=int(input(\"Your choice is:\" ))\n",
    "if op==1:\n",
    "    print(\"Summation is :\",a+b)\n",
    "elif op==2:\n",
    "    print(\"Subtraction is :\",a-b)\n",
    "elif op==3:\n",
    "    print(\"Product is :\",int(float(a*b)))\n",
    "elif op==4 and b!=0:\n",
    "    print(\"Fraction is :\",int(float(a/b)))\n",
    "else:\n",
    "    print(\"Can't divide by 0\")"
   ]
  },
  {
   "cell_type": "code",
   "execution_count": null,
   "id": "3e640794-a088-4448-bb27-e744af92e569",
   "metadata": {},
   "outputs": [],
   "source": []
  }
 ],
 "metadata": {
  "kernelspec": {
   "display_name": "Python 3 (ipykernel)",
   "language": "python",
   "name": "python3"
  },
  "language_info": {
   "codemirror_mode": {
    "name": "ipython",
    "version": 3
   },
   "file_extension": ".py",
   "mimetype": "text/x-python",
   "name": "python",
   "nbconvert_exporter": "python",
   "pygments_lexer": "ipython3",
   "version": "3.9.13"
  }
 },
 "nbformat": 4,
 "nbformat_minor": 5
}
