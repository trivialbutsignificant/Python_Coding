{
 "cells": [
  {
   "cell_type": "code",
   "execution_count": null,
   "id": "32f3b565",
   "metadata": {},
   "outputs": [],
   "source": [
    "#List Comprehension \n",
    "if __name__=='__main__':\n",
    "    x=int(input())\n",
    "    y=int(input())\n",
    "    z=int(input())\n",
    "    n=int(input())\n",
    "print(list([i,j,k] for i in range(x+1) for j in range(y+1) for k in range(z+1) if i==j and j==k))"
   ]
  }
 ],
 "metadata": {
  "kernelspec": {
   "display_name": "Python 3 (ipykernel)",
   "language": "python",
   "name": "python3"
  },
  "language_info": {
   "codemirror_mode": {
    "name": "ipython",
    "version": 3
   },
   "file_extension": ".py",
   "mimetype": "text/x-python",
   "name": "python",
   "nbconvert_exporter": "python",
   "pygments_lexer": "ipython3",
   "version": "3.9.13"
  }
 },
 "nbformat": 4,
 "nbformat_minor": 5
}
