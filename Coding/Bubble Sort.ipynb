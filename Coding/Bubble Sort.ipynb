{
 "cells": [
  {
   "cell_type": "code",
   "execution_count": 19,
   "id": "948afe58-ac5a-48b3-8def-d20fc7ff49e2",
   "metadata": {},
   "outputs": [
    {
     "name": "stdin",
     "output_type": "stream",
     "text": [
      "Enter the string of numbers:  6547587\n"
     ]
    },
    {
     "name": "stdout",
     "output_type": "stream",
     "text": [
      "7\n",
      "['4', '5', '5', '6', '7', '7', '8']\n"
     ]
    }
   ],
   "source": [
    "#Bubble Sort\n",
    "import string\n",
    "st=list(input(\"Enter the string of numbers: \"))\n",
    "l=len(st)\n",
    "print(l)\n",
    "for i in range(l-1):\n",
    "    for j in range(l-i-1):\n",
    "        if st[l-j-1]<st[l-j-2]:\n",
    "            key=st[l-j-1]\n",
    "            st[l-j-1]=st[l-j-2]\n",
    "            st[l-j-2]=key\n",
    "print(st)"
   ]
  },
  {
   "cell_type": "code",
   "execution_count": null,
   "id": "33680921-5142-491c-81cd-ddfe46ed0f81",
   "metadata": {},
   "outputs": [],
   "source": []
  }
 ],
 "metadata": {
  "kernelspec": {
   "display_name": "Python 3 (ipykernel)",
   "language": "python",
   "name": "python3"
  },
  "language_info": {
   "codemirror_mode": {
    "name": "ipython",
    "version": 3
   },
   "file_extension": ".py",
   "mimetype": "text/x-python",
   "name": "python",
   "nbconvert_exporter": "python",
   "pygments_lexer": "ipython3",
   "version": "3.9.13"
  }
 },
 "nbformat": 4,
 "nbformat_minor": 5
}
