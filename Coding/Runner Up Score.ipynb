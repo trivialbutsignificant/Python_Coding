{
 "cells": [
  {
   "cell_type": "code",
   "execution_count": null,
   "id": "532c486a",
   "metadata": {},
   "outputs": [],
   "source": [
    "#Printing the runner up player score\n",
    "if __name__=='__main__':\n",
    "    n=int(input())\n",
    "    arr=map(int,input().split())\n",
    "arr=set(arr)\n",
    "arr=sorted(arr)\n",
    "print(arr[-2])"
   ]
  },
  {
   "cell_type": "markdown",
   "id": "3321e4c4",
   "metadata": {},
   "source": [
    " "
   ]
  }
 ],
 "metadata": {
  "kernelspec": {
   "display_name": "Python 3 (ipykernel)",
   "language": "python",
   "name": "python3"
  },
  "language_info": {
   "codemirror_mode": {
    "name": "ipython",
    "version": 3
   },
   "file_extension": ".py",
   "mimetype": "text/x-python",
   "name": "python",
   "nbconvert_exporter": "python",
   "pygments_lexer": "ipython3",
   "version": "3.9.13"
  }
 },
 "nbformat": 4,
 "nbformat_minor": 5
}
