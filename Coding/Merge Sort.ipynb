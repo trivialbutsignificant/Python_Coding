{
 "cells": [
  {
   "cell_type": "code",
   "execution_count": 93,
   "id": "230de7b5-26dd-475b-af2f-fa3933f957f6",
   "metadata": {},
   "outputs": [
    {
     "name": "stdin",
     "output_type": "stream",
     "text": [
      "Enter the string:  2353463673\n"
     ]
    },
    {
     "name": "stdout",
     "output_type": "stream",
     "text": [
      "[2, 3, 3, 3, 3, 4, 5, 6, 6, 7]\n"
     ]
    }
   ],
   "source": [
    "import string\n",
    "#Merge Sort\n",
    "def merge(arr,l,m,r):\n",
    "    \n",
    "    #Initialize the size of left and right array\n",
    "    n1=m-l+1\n",
    "    n2=r-m\n",
    "    \n",
    "    #Create temporary left and right array\n",
    "    L=list([0]*n1)\n",
    "    R=list([0]*n2)\n",
    "    \n",
    "    #Copy the data from st to L and R\n",
    "    for i in range(n1):\n",
    "        L[i]=arr[i+l]\n",
    "    for j in range(n2):\n",
    "        R[j]=arr[(j+m+1)]\n",
    "    \n",
    "    #Initialization of variables\n",
    "    i=0\n",
    "    j=0\n",
    "    k=l\n",
    "    \n",
    "    #Merging of L and R\n",
    "    while i<n1 and j<n2:\n",
    "        if L[i]<=R[j]:\n",
    "            arr[k]=L[i]\n",
    "            i=i+1\n",
    "        else:\n",
    "            arr[k]=R[j]\n",
    "            j=j+1\n",
    "        k=k+1\n",
    "    \n",
    "    #Copy remaing elements from L\n",
    "    while i<n1:\n",
    "        arr[k]=L[i]\n",
    "        i=i+1\n",
    "        k=k+1\n",
    "    \n",
    "    #Copy remaing elements from R\n",
    "    while j<n2:\n",
    "        arr[k]=R[j]\n",
    "        j=j+1\n",
    "        k=k+1\n",
    "\n",
    "def mergeSort(arr,l,u):\n",
    "    if l<u:\n",
    "        m=(l+u)//2\n",
    "        mergeSort(arr,l,m)\n",
    "        mergeSort(arr,m+1,u)\n",
    "        merge(arr,l,m,u)\n",
    "\n",
    "\n",
    "st=list(input(\"Enter the string: \"))\n",
    "for i in range(len(st)):\n",
    "    st[i]=int(st[i])\n",
    "l=len(st)\n",
    "mergeSort(st,0,l-1)\n",
    "print(st)"
   ]
  },
  {
   "cell_type": "code",
   "execution_count": null,
   "id": "fe427e1c-c464-486a-b640-974d72180acc",
   "metadata": {},
   "outputs": [],
   "source": [
    "mergeSort(arr, l, m)\n",
    "        mergeSort(arr, m+1, r)\n",
    "        merge(arr, l, m, r)"
   ]
  }
 ],
 "metadata": {
  "kernelspec": {
   "display_name": "Python 3 (ipykernel)",
   "language": "python",
   "name": "python3"
  },
  "language_info": {
   "codemirror_mode": {
    "name": "ipython",
    "version": 3
   },
   "file_extension": ".py",
   "mimetype": "text/x-python",
   "name": "python",
   "nbconvert_exporter": "python",
   "pygments_lexer": "ipython3",
   "version": "3.9.13"
  }
 },
 "nbformat": 4,
 "nbformat_minor": 5
}
