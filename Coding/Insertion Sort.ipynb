{
 "cells": [
  {
   "cell_type": "code",
   "execution_count": 36,
   "id": "3a70ac02-33bf-453d-8f7b-e4e1f2810b7c",
   "metadata": {},
   "outputs": [
    {
     "name": "stdin",
     "output_type": "stream",
     "text": [
      "Enter string of numbers 74564\n"
     ]
    },
    {
     "name": "stdout",
     "output_type": "stream",
     "text": [
      "['4', '4', '5', '6', '7']\n"
     ]
    }
   ],
   "source": [
    "#Insertion Sort\n",
    "import string\n",
    "st=input(\"Enter string of numbers\")\n",
    "st=list(st)\n",
    "i=1\n",
    "for i in range(len(st)):\n",
    "    key=st[i]\n",
    "    j=i-1\n",
    "    while j>=0 and key<st[j]:\n",
    "        st[j+1]=st[j]\n",
    "        j=j-1\n",
    "    st[j+1]=key\n",
    "print(st)\n"
   ]
  },
  {
   "cell_type": "code",
   "execution_count": null,
   "id": "c85fe818-f061-4112-a367-53f874927c83",
   "metadata": {},
   "outputs": [],
   "source": []
  }
 ],
 "metadata": {
  "kernelspec": {
   "display_name": "Python 3 (ipykernel)",
   "language": "python",
   "name": "python3"
  },
  "language_info": {
   "codemirror_mode": {
    "name": "ipython",
    "version": 3
   },
   "file_extension": ".py",
   "mimetype": "text/x-python",
   "name": "python",
   "nbconvert_exporter": "python",
   "pygments_lexer": "ipython3",
   "version": "3.9.13"
  }
 },
 "nbformat": 4,
 "nbformat_minor": 5
}
